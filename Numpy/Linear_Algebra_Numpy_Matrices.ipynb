{
  "nbformat": 4,
  "nbformat_minor": 0,
  "metadata": {
    "colab": {
      "name": "Linear_Algebra_Numpy_Matrices.ipynb",
      "provenance": [],
      "authorship_tag": "ABX9TyMwJI4d0heqPgqtIabLkhe6",
      "include_colab_link": true
    },
    "kernelspec": {
      "name": "python3",
      "display_name": "Python 3"
    },
    "language_info": {
      "name": "python"
    }
  },
  "cells": [
    {
      "cell_type": "markdown",
      "metadata": {
        "id": "view-in-github",
        "colab_type": "text"
      },
      "source": [
        "<a href=\"https://colab.research.google.com/github/joserodriguezc/linear_algebra/blob/main/Numpy/Linear_Algebra_Numpy_Matrices.ipynb\" target=\"_parent\"><img src=\"https://colab.research.google.com/assets/colab-badge.svg\" alt=\"Open In Colab\"/></a>"
      ]
    },
    {
      "cell_type": "markdown",
      "metadata": {
        "id": "GLevW_3w9LFi"
      },
      "source": [
        "**Vectors and Vector Arithmetic**\n",
        "\n",
        "*Vectors are built from components, which are ordinary numbers. You can think of a vector as a list of numbers, and vector algebra as operations performed on the numbers in the list.*\n",
        "No Bullshit Guide To Linear Algebra, 2017.\n",
        "\n"
      ]
    },
    {
      "cell_type": "markdown",
      "metadata": {
        "id": "3zh0Dca5-OEH"
      },
      "source": [
        "v = (v1; v2; v3)"
      ]
    },
    {
      "cell_type": "code",
      "metadata": {
        "colab": {
          "base_uri": "https://localhost:8080/"
        },
        "id": "kxusi8uP9VS9",
        "outputId": "dd18f241-2712-41bc-f53c-efa7d60ddcdf"
      },
      "source": [
        "# create a vector\n",
        "from numpy import array\n",
        "# define vector\n",
        "v = array([10, 22, 343])\n",
        "print(v)"
      ],
      "execution_count": 2,
      "outputs": [
        {
          "output_type": "stream",
          "text": [
            "[ 10  22 343]\n"
          ],
          "name": "stdout"
        }
      ]
    },
    {
      "cell_type": "markdown",
      "metadata": {
        "id": "zc9ezAQi-xpF"
      },
      "source": [
        "Basic Arithmetic"
      ]
    },
    {
      "cell_type": "code",
      "metadata": {
        "id": "OSVq78bA-W4b"
      },
      "source": [
        "vector1 = array([1,5,7])\n",
        "vector2 = array([0.2,0.5,3.5])"
      ],
      "execution_count": 4,
      "outputs": []
    },
    {
      "cell_type": "code",
      "metadata": {
        "colab": {
          "base_uri": "https://localhost:8080/"
        },
        "id": "ZlVKxnz9_DOz",
        "outputId": "9ec81f26-b901-49a5-bdf0-63864bb8aa5b"
      },
      "source": [
        "add = vector1 + vector2\n",
        "print(add)"
      ],
      "execution_count": 5,
      "outputs": [
        {
          "output_type": "stream",
          "text": [
            "[ 1.2  5.5 10.5]\n"
          ],
          "name": "stdout"
        }
      ]
    },
    {
      "cell_type": "code",
      "metadata": {
        "colab": {
          "base_uri": "https://localhost:8080/"
        },
        "id": "6VggpvmU_Kyv",
        "outputId": "93438714-19c1-44ae-c07c-b02e409177d9"
      },
      "source": [
        "sust = vector1 - vector2\n",
        "print(sust)"
      ],
      "execution_count": 7,
      "outputs": [
        {
          "output_type": "stream",
          "text": [
            "[0.8 4.5 3.5]\n"
          ],
          "name": "stdout"
        }
      ]
    },
    {
      "cell_type": "code",
      "metadata": {
        "colab": {
          "base_uri": "https://localhost:8080/"
        },
        "id": "xaHyoJZW_QvZ",
        "outputId": "559e1b04-b6b6-420a-acfd-cc9d30c4a88b"
      },
      "source": [
        "mul = vector1 * vector2\n",
        "print(mul)"
      ],
      "execution_count": 8,
      "outputs": [
        {
          "output_type": "stream",
          "text": [
            "[ 0.2  2.5 24.5]\n"
          ],
          "name": "stdout"
        }
      ]
    },
    {
      "cell_type": "code",
      "metadata": {
        "colab": {
          "base_uri": "https://localhost:8080/"
        },
        "id": "nyaYBlb8_YBG",
        "outputId": "02663bb3-9952-46d8-bc65-f6bc08d15e10"
      },
      "source": [
        "div = vector1 / vector2\n",
        "print(div)"
      ],
      "execution_count": 9,
      "outputs": [
        {
          "output_type": "stream",
          "text": [
            "[ 5. 10.  2.]\n"
          ],
          "name": "stdout"
        }
      ]
    },
    {
      "cell_type": "markdown",
      "metadata": {
        "id": "IbByeDxv_j-v"
      },
      "source": [
        "Dot Product\n",
        "\n",
        "c = a . b   \n",
        "c = c = (a1 * b1 + a2 * b2 + a3 * b3)"
      ]
    },
    {
      "cell_type": "code",
      "metadata": {
        "colab": {
          "base_uri": "https://localhost:8080/"
        },
        "id": "S_rBzZzu_e3l",
        "outputId": "06ac0783-c2a2-43d9-a8cd-680c7800af9f"
      },
      "source": [
        "dot = vector1.dot(vector2)\n",
        "print(dot)"
      ],
      "execution_count": 11,
      "outputs": [
        {
          "output_type": "stream",
          "text": [
            "27.2\n"
          ],
          "name": "stdout"
        }
      ]
    },
    {
      "cell_type": "code",
      "metadata": {
        "colab": {
          "base_uri": "https://localhost:8080/"
        },
        "id": "UWkWtTxaA3fK",
        "outputId": "b4b51fd6-fc18-4168-e229-ece7ad4b17fd"
      },
      "source": [
        "dot == sum(mul)"
      ],
      "execution_count": 13,
      "outputs": [
        {
          "output_type": "execute_result",
          "data": {
            "text/plain": [
              "True"
            ]
          },
          "metadata": {
            "tags": []
          },
          "execution_count": 13
        }
      ]
    },
    {
      "cell_type": "markdown",
      "metadata": {
        "id": "0hENF3fBBTGh"
      },
      "source": [
        "## Vector Norms"
      ]
    },
    {
      "cell_type": "markdown",
      "metadata": {
        "id": "zSnOGaKYBZp2"
      },
      "source": [
        "* The L1 norm that is calculated as the sum of the absolute values of the vector.\n",
        "* The L2 norm that is calculated as the square root of the sum of the squared vector values.\n",
        "* The max norm that is calculated as the maximum vector values."
      ]
    },
    {
      "cell_type": "markdown",
      "metadata": {
        "id": "SvaXrrtXCSY6"
      },
      "source": [
        "L1 norm   \n",
        "||v||1 = |a1| + |a2| + |a3|   \n",
        "Manhatan Distance"
      ]
    },
    {
      "cell_type": "code",
      "metadata": {
        "colab": {
          "base_uri": "https://localhost:8080/"
        },
        "id": "OZ78YpZaBSLW",
        "outputId": "ba7e26f3-4f2b-476e-b97e-46d7d48b0a15"
      },
      "source": [
        "from numpy.linalg import norm\n",
        "# define vector\n",
        "a = array([1, 2, 3])\n",
        "print(a)\n",
        "# calculate norm\n",
        "l1 = norm(a, 1)\n",
        "print(l1)"
      ],
      "execution_count": 14,
      "outputs": [
        {
          "output_type": "stream",
          "text": [
            "[1 2 3]\n",
            "6.0\n"
          ],
          "name": "stdout"
        }
      ]
    },
    {
      "cell_type": "markdown",
      "metadata": {
        "id": "Lw8ECeaCCrux"
      },
      "source": [
        "L2 norm   \n",
        "||v||2 = sqr(a21 + a22 + a23)  \n",
        "Euclidean Distance"
      ]
    },
    {
      "cell_type": "code",
      "metadata": {
        "colab": {
          "base_uri": "https://localhost:8080/"
        },
        "id": "wPbLj0FOCOvL",
        "outputId": "c97c43f1-27a8-4390-b1e5-548a0a8ea278"
      },
      "source": [
        "a = array([1, 2, 3])\n",
        "print(a)\n",
        "# calculate norm\n",
        "l2 = norm(a)\n",
        "print(l2)"
      ],
      "execution_count": 15,
      "outputs": [
        {
          "output_type": "stream",
          "text": [
            "[1 2 3]\n",
            "3.7416573867739413\n"
          ],
          "name": "stdout"
        }
      ]
    },
    {
      "cell_type": "code",
      "metadata": {
        "colab": {
          "base_uri": "https://localhost:8080/"
        },
        "id": "TCjzVuDqDL0s",
        "outputId": "55a7b4ac-9ace-4d30-a3a9-3133fc397437"
      },
      "source": [
        "a = 1 * 1\n",
        "b = 2 * 2\n",
        "c = 3 * 3\n",
        "s = a + b + c\n",
        "l2 = np.sqrt(s)\n",
        "print(l2)"
      ],
      "execution_count": 32,
      "outputs": [
        {
          "output_type": "stream",
          "text": [
            "3.7416573867739413\n"
          ],
          "name": "stdout"
        }
      ]
    },
    {
      "cell_type": "markdown",
      "metadata": {
        "id": "bGgxEwmAM-P0"
      },
      "source": [
        "**Matrix**   \n",
        "A matrix is a two-dimensional array of scalars with one or more columns and one or more rows. i.e a table of numbers   \n"
      ]
    },
    {
      "cell_type": "code",
      "metadata": {
        "colab": {
          "base_uri": "https://localhost:8080/"
        },
        "id": "13rHhQh1FThk",
        "outputId": "58aa6ab9-ba33-4a4c-c4c9-f1c745bd6b51"
      },
      "source": [
        "A = array([[3, 12, 33], [4, 44, 567]])\n",
        "print(A)"
      ],
      "execution_count": 34,
      "outputs": [
        {
          "output_type": "stream",
          "text": [
            "[[  3  12  33]\n",
            " [  4  44 567]]\n"
          ],
          "name": "stdout"
        }
      ]
    },
    {
      "cell_type": "markdown",
      "metadata": {
        "id": "1PGh0JzxNdB4"
      },
      "source": [
        "add"
      ]
    },
    {
      "cell_type": "code",
      "metadata": {
        "colab": {
          "base_uri": "https://localhost:8080/"
        },
        "id": "-IJQoNbRNRMu",
        "outputId": "71a5db77-81cf-4d80-ae9b-81f627e9bb20"
      },
      "source": [
        "# define first matrix\n",
        "A = array([\n",
        "[1, 2, 3],\n",
        "[4, 5, 6]])\n",
        "print(A)\n",
        "# define second matrix\n",
        "B = array([\n",
        "[1, 2, 3],\n",
        "[4, 5, 6]])\n",
        "print(B)\n",
        "# add matrices\n",
        "C = A + B\n",
        "print(C)"
      ],
      "execution_count": 35,
      "outputs": [
        {
          "output_type": "stream",
          "text": [
            "[[1 2 3]\n",
            " [4 5 6]]\n",
            "[[1 2 3]\n",
            " [4 5 6]]\n",
            "[[ 2  4  6]\n",
            " [ 8 10 12]]\n"
          ],
          "name": "stdout"
        }
      ]
    },
    {
      "cell_type": "markdown",
      "metadata": {
        "id": "mgTJndO3NnXr"
      },
      "source": [
        "Substraction"
      ]
    },
    {
      "cell_type": "code",
      "metadata": {
        "colab": {
          "base_uri": "https://localhost:8080/"
        },
        "id": "Oe8eMwUoNeOO",
        "outputId": "03590fd0-63c7-48fe-ed5d-cd0c4d3e7f67"
      },
      "source": [
        "# define first matrix\n",
        "A = array([\n",
        "[1, 2, 3],\n",
        "[4, 5, 6]])\n",
        "print(A)\n",
        "# define second matrix\n",
        "B = array([\n",
        "[0.5, 0.5, 0.5],\n",
        "[0.5, 0.5, 0.5]])\n",
        "print(B)\n",
        "# subtract matrices\n",
        "C = A - B\n",
        "print(C)"
      ],
      "execution_count": 37,
      "outputs": [
        {
          "output_type": "stream",
          "text": [
            "[[1 2 3]\n",
            " [4 5 6]]\n",
            "[[0.5 0.5 0.5]\n",
            " [0.5 0.5 0.5]]\n",
            "[[0.5 1.5 2.5]\n",
            " [3.5 4.5 5.5]]\n"
          ],
          "name": "stdout"
        }
      ]
    },
    {
      "cell_type": "markdown",
      "metadata": {
        "id": "FNPSO0NQNyiT"
      },
      "source": [
        "Hadamard Product"
      ]
    },
    {
      "cell_type": "code",
      "metadata": {
        "colab": {
          "base_uri": "https://localhost:8080/"
        },
        "id": "17g3Sr5-Npxf",
        "outputId": "c33ebffc-7ec3-4ad3-d53d-912912e0c2df"
      },
      "source": [
        "# define first matrix\n",
        "A = array([\n",
        "[1, 2, 3],\n",
        "[4, 5, 6]])\n",
        "print(A)\n",
        "# define second matrix\n",
        "B = array([\n",
        "[1, 2, 3],\n",
        "[4, 5, 6]])\n",
        "print(B)\n",
        "# multiply matrices\n",
        "C = A * B\n",
        "print(C)"
      ],
      "execution_count": 38,
      "outputs": [
        {
          "output_type": "stream",
          "text": [
            "[[1 2 3]\n",
            " [4 5 6]]\n",
            "[[1 2 3]\n",
            " [4 5 6]]\n",
            "[[ 1  4  9]\n",
            " [16 25 36]]\n"
          ],
          "name": "stdout"
        }
      ]
    },
    {
      "cell_type": "markdown",
      "metadata": {
        "id": "Ti-LKquQN7JF"
      },
      "source": [
        "Division"
      ]
    },
    {
      "cell_type": "code",
      "metadata": {
        "colab": {
          "base_uri": "https://localhost:8080/"
        },
        "id": "tGJH_8HwN2o7",
        "outputId": "f39adf76-6453-4d52-efea-ef85e9c627b0"
      },
      "source": [
        "# define first matrix\n",
        "A = array([\n",
        "[1, 2, 3],\n",
        "[4, 5, 6]])\n",
        "print(A)\n",
        "# define second matrix\n",
        "B = array([\n",
        "[1, 2, 3],\n",
        "[4, 5, 6]])\n",
        "print(B)\n",
        "# divide matrices\n",
        "C = A / B\n",
        "print(C)"
      ],
      "execution_count": 39,
      "outputs": [
        {
          "output_type": "stream",
          "text": [
            "[[1 2 3]\n",
            " [4 5 6]]\n",
            "[[1 2 3]\n",
            " [4 5 6]]\n",
            "[[1. 1. 1.]\n",
            " [1. 1. 1.]]\n"
          ],
          "name": "stdout"
        }
      ]
    },
    {
      "cell_type": "markdown",
      "metadata": {
        "id": "sds1WsKCOFSS"
      },
      "source": [
        "Dot product"
      ]
    },
    {
      "cell_type": "code",
      "metadata": {
        "colab": {
          "base_uri": "https://localhost:8080/"
        },
        "id": "sl9WrXDlN_fQ",
        "outputId": "9b754b0e-191c-4c39-c80e-e6ee12d3b23a"
      },
      "source": [
        "#define first matrix\n",
        "A = array([\n",
        "[1, 2],\n",
        "[3, 4],\n",
        "[5, 6]])\n",
        "print(A)\n",
        "# define second matrix\n",
        "B = array([\n",
        "[1, 2],\n",
        "[3, 4]])\n",
        "print(B)\n",
        "# multiply matrices\n",
        "C = A.dot(B)\n",
        "print(C)\n",
        "# multiply matrices with @ operator\n",
        "D = A @ B\n",
        "print(D)"
      ],
      "execution_count": 41,
      "outputs": [
        {
          "output_type": "stream",
          "text": [
            "[[1 2]\n",
            " [3 4]\n",
            " [5 6]]\n",
            "[[1 2]\n",
            " [3 4]]\n",
            "[[ 7 10]\n",
            " [15 22]\n",
            " [23 34]]\n",
            "[[ 7 10]\n",
            " [15 22]\n",
            " [23 34]]\n"
          ],
          "name": "stdout"
        }
      ]
    },
    {
      "cell_type": "code",
      "metadata": {
        "id": "TUccKVOOOLOB"
      },
      "source": [
        ""
      ],
      "execution_count": null,
      "outputs": []
    }
  ]
}