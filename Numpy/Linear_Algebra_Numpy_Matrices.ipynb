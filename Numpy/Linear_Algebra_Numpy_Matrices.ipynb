{
  "nbformat": 4,
  "nbformat_minor": 0,
  "metadata": {
    "colab": {
      "name": "Linear_Algebra_Numpy_Matrices.ipynb",
      "provenance": [],
      "authorship_tag": "ABX9TyM49gmqi4bBTfUmAHQkWvzy",
      "include_colab_link": true
    },
    "kernelspec": {
      "name": "python3",
      "display_name": "Python 3"
    },
    "language_info": {
      "name": "python"
    }
  },
  "cells": [
    {
      "cell_type": "markdown",
      "metadata": {
        "id": "view-in-github",
        "colab_type": "text"
      },
      "source": [
        "<a href=\"https://colab.research.google.com/github/joserodriguezc/linear_algebra/blob/main/Numpy/Linear_Algebra_Numpy_Matrices.ipynb\" target=\"_parent\"><img src=\"https://colab.research.google.com/assets/colab-badge.svg\" alt=\"Open In Colab\"/></a>"
      ]
    },
    {
      "cell_type": "markdown",
      "metadata": {
        "id": "GLevW_3w9LFi"
      },
      "source": [
        "**Vectors and Vector Arithmetic**\n",
        "\n",
        "*Vectors are built from components, which are ordinary numbers. You can think of a vector as a list of numbers, and vector algebra as operations performed on the numbers in the list.*\n",
        "No Bullshit Guide To Linear Algebra, 2017.\n",
        "\n"
      ]
    },
    {
      "cell_type": "markdown",
      "metadata": {
        "id": "3zh0Dca5-OEH"
      },
      "source": [
        "v = (v1; v2; v3)"
      ]
    },
    {
      "cell_type": "code",
      "metadata": {
        "colab": {
          "base_uri": "https://localhost:8080/"
        },
        "id": "kxusi8uP9VS9",
        "outputId": "dd18f241-2712-41bc-f53c-efa7d60ddcdf"
      },
      "source": [
        "# create a vector\n",
        "from numpy import array\n",
        "# define vector\n",
        "v = array([10, 22, 343])\n",
        "print(v)"
      ],
      "execution_count": 2,
      "outputs": [
        {
          "output_type": "stream",
          "text": [
            "[ 10  22 343]\n"
          ],
          "name": "stdout"
        }
      ]
    },
    {
      "cell_type": "markdown",
      "metadata": {
        "id": "zc9ezAQi-xpF"
      },
      "source": [
        "Basic Arithmetic"
      ]
    },
    {
      "cell_type": "code",
      "metadata": {
        "id": "OSVq78bA-W4b"
      },
      "source": [
        "vector1 = array([1,5,7])\n",
        "vector2 = array([0.2,0.5,3.5])"
      ],
      "execution_count": 4,
      "outputs": []
    },
    {
      "cell_type": "code",
      "metadata": {
        "colab": {
          "base_uri": "https://localhost:8080/"
        },
        "id": "ZlVKxnz9_DOz",
        "outputId": "9ec81f26-b901-49a5-bdf0-63864bb8aa5b"
      },
      "source": [
        "add = vector1 + vector2\n",
        "print(add)"
      ],
      "execution_count": 5,
      "outputs": [
        {
          "output_type": "stream",
          "text": [
            "[ 1.2  5.5 10.5]\n"
          ],
          "name": "stdout"
        }
      ]
    },
    {
      "cell_type": "code",
      "metadata": {
        "colab": {
          "base_uri": "https://localhost:8080/"
        },
        "id": "6VggpvmU_Kyv",
        "outputId": "93438714-19c1-44ae-c07c-b02e409177d9"
      },
      "source": [
        "sust = vector1 - vector2\n",
        "print(sust)"
      ],
      "execution_count": 7,
      "outputs": [
        {
          "output_type": "stream",
          "text": [
            "[0.8 4.5 3.5]\n"
          ],
          "name": "stdout"
        }
      ]
    },
    {
      "cell_type": "code",
      "metadata": {
        "colab": {
          "base_uri": "https://localhost:8080/"
        },
        "id": "xaHyoJZW_QvZ",
        "outputId": "559e1b04-b6b6-420a-acfd-cc9d30c4a88b"
      },
      "source": [
        "mul = vector1 * vector2\n",
        "print(mul)"
      ],
      "execution_count": 8,
      "outputs": [
        {
          "output_type": "stream",
          "text": [
            "[ 0.2  2.5 24.5]\n"
          ],
          "name": "stdout"
        }
      ]
    },
    {
      "cell_type": "code",
      "metadata": {
        "colab": {
          "base_uri": "https://localhost:8080/"
        },
        "id": "nyaYBlb8_YBG",
        "outputId": "02663bb3-9952-46d8-bc65-f6bc08d15e10"
      },
      "source": [
        "div = vector1 / vector2\n",
        "print(div)"
      ],
      "execution_count": 9,
      "outputs": [
        {
          "output_type": "stream",
          "text": [
            "[ 5. 10.  2.]\n"
          ],
          "name": "stdout"
        }
      ]
    },
    {
      "cell_type": "markdown",
      "metadata": {
        "id": "IbByeDxv_j-v"
      },
      "source": [
        "Dot Product\n",
        "\n",
        "c = a . b   \n",
        "c = c = (a1 * b1 + a2 * b2 + a3 * b3)"
      ]
    },
    {
      "cell_type": "code",
      "metadata": {
        "colab": {
          "base_uri": "https://localhost:8080/"
        },
        "id": "S_rBzZzu_e3l",
        "outputId": "06ac0783-c2a2-43d9-a8cd-680c7800af9f"
      },
      "source": [
        "dot = vector1.dot(vector2)\n",
        "print(dot)"
      ],
      "execution_count": 11,
      "outputs": [
        {
          "output_type": "stream",
          "text": [
            "27.2\n"
          ],
          "name": "stdout"
        }
      ]
    },
    {
      "cell_type": "code",
      "metadata": {
        "colab": {
          "base_uri": "https://localhost:8080/"
        },
        "id": "UWkWtTxaA3fK",
        "outputId": "b4b51fd6-fc18-4168-e229-ece7ad4b17fd"
      },
      "source": [
        "dot == sum(mul)"
      ],
      "execution_count": 13,
      "outputs": [
        {
          "output_type": "execute_result",
          "data": {
            "text/plain": [
              "True"
            ]
          },
          "metadata": {
            "tags": []
          },
          "execution_count": 13
        }
      ]
    },
    {
      "cell_type": "markdown",
      "metadata": {
        "id": "0hENF3fBBTGh"
      },
      "source": [
        "## Vector Norms"
      ]
    },
    {
      "cell_type": "markdown",
      "metadata": {
        "id": "zSnOGaKYBZp2"
      },
      "source": [
        "* The L1 norm that is calculated as the sum of the absolute values of the vector.\n",
        "* The L2 norm that is calculated as the square root of the sum of the squared vector values.\n",
        "* The max norm that is calculated as the maximum vector values."
      ]
    },
    {
      "cell_type": "markdown",
      "metadata": {
        "id": "SvaXrrtXCSY6"
      },
      "source": [
        "L1 norm   \n",
        "||v||1 = |a1| + |a2| + |a3|   \n",
        "Manhatan Distance"
      ]
    },
    {
      "cell_type": "code",
      "metadata": {
        "colab": {
          "base_uri": "https://localhost:8080/"
        },
        "id": "OZ78YpZaBSLW",
        "outputId": "ba7e26f3-4f2b-476e-b97e-46d7d48b0a15"
      },
      "source": [
        "from numpy.linalg import norm\n",
        "# define vector\n",
        "a = array([1, 2, 3])\n",
        "print(a)\n",
        "# calculate norm\n",
        "l1 = norm(a, 1)\n",
        "print(l1)"
      ],
      "execution_count": 14,
      "outputs": [
        {
          "output_type": "stream",
          "text": [
            "[1 2 3]\n",
            "6.0\n"
          ],
          "name": "stdout"
        }
      ]
    },
    {
      "cell_type": "markdown",
      "metadata": {
        "id": "Lw8ECeaCCrux"
      },
      "source": [
        "L2 norm   \n",
        "||v||2 = sqr(a21 + a22 + a23)  \n",
        "Euclidean Distance"
      ]
    },
    {
      "cell_type": "code",
      "metadata": {
        "colab": {
          "base_uri": "https://localhost:8080/"
        },
        "id": "wPbLj0FOCOvL",
        "outputId": "c97c43f1-27a8-4390-b1e5-548a0a8ea278"
      },
      "source": [
        "a = array([1, 2, 3])\n",
        "print(a)\n",
        "# calculate norm\n",
        "l2 = norm(a)\n",
        "print(l2)"
      ],
      "execution_count": 15,
      "outputs": [
        {
          "output_type": "stream",
          "text": [
            "[1 2 3]\n",
            "3.7416573867739413\n"
          ],
          "name": "stdout"
        }
      ]
    },
    {
      "cell_type": "code",
      "metadata": {
        "colab": {
          "base_uri": "https://localhost:8080/"
        },
        "id": "TCjzVuDqDL0s",
        "outputId": "55a7b4ac-9ace-4d30-a3a9-3133fc397437"
      },
      "source": [
        "a = 1 * 1\n",
        "b = 2 * 2\n",
        "c = 3 * 3\n",
        "s = a + b + c\n",
        "l2 = np.sqrt(s)\n",
        "print(l2)"
      ],
      "execution_count": 32,
      "outputs": [
        {
          "output_type": "stream",
          "text": [
            "3.7416573867739413\n"
          ],
          "name": "stdout"
        }
      ]
    },
    {
      "cell_type": "markdown",
      "metadata": {
        "id": "bGgxEwmAM-P0"
      },
      "source": [
        "**Matrix**   \n",
        "A matrix is a two-dimensional array of scalars with one or more columns and one or more rows. i.e a table of numbers   \n"
      ]
    },
    {
      "cell_type": "code",
      "metadata": {
        "colab": {
          "base_uri": "https://localhost:8080/"
        },
        "id": "13rHhQh1FThk",
        "outputId": "58aa6ab9-ba33-4a4c-c4c9-f1c745bd6b51"
      },
      "source": [
        "A = array([[3, 12, 33], [4, 44, 567]])\n",
        "print(A)"
      ],
      "execution_count": 34,
      "outputs": [
        {
          "output_type": "stream",
          "text": [
            "[[  3  12  33]\n",
            " [  4  44 567]]\n"
          ],
          "name": "stdout"
        }
      ]
    },
    {
      "cell_type": "markdown",
      "metadata": {
        "id": "1PGh0JzxNdB4"
      },
      "source": [
        "add"
      ]
    },
    {
      "cell_type": "code",
      "metadata": {
        "colab": {
          "base_uri": "https://localhost:8080/"
        },
        "id": "-IJQoNbRNRMu",
        "outputId": "71a5db77-81cf-4d80-ae9b-81f627e9bb20"
      },
      "source": [
        "# define first matrix\n",
        "A = array([\n",
        "[1, 2, 3],\n",
        "[4, 5, 6]])\n",
        "print(A)\n",
        "# define second matrix\n",
        "B = array([\n",
        "[1, 2, 3],\n",
        "[4, 5, 6]])\n",
        "print(B)\n",
        "# add matrices\n",
        "C = A + B\n",
        "print(C)"
      ],
      "execution_count": 35,
      "outputs": [
        {
          "output_type": "stream",
          "text": [
            "[[1 2 3]\n",
            " [4 5 6]]\n",
            "[[1 2 3]\n",
            " [4 5 6]]\n",
            "[[ 2  4  6]\n",
            " [ 8 10 12]]\n"
          ],
          "name": "stdout"
        }
      ]
    },
    {
      "cell_type": "markdown",
      "metadata": {
        "id": "mgTJndO3NnXr"
      },
      "source": [
        "Substraction"
      ]
    },
    {
      "cell_type": "code",
      "metadata": {
        "colab": {
          "base_uri": "https://localhost:8080/"
        },
        "id": "Oe8eMwUoNeOO",
        "outputId": "03590fd0-63c7-48fe-ed5d-cd0c4d3e7f67"
      },
      "source": [
        "# define first matrix\n",
        "A = array([\n",
        "[1, 2, 3],\n",
        "[4, 5, 6]])\n",
        "print(A)\n",
        "# define second matrix\n",
        "B = array([\n",
        "[0.5, 0.5, 0.5],\n",
        "[0.5, 0.5, 0.5]])\n",
        "print(B)\n",
        "# subtract matrices\n",
        "C = A - B\n",
        "print(C)"
      ],
      "execution_count": 37,
      "outputs": [
        {
          "output_type": "stream",
          "text": [
            "[[1 2 3]\n",
            " [4 5 6]]\n",
            "[[0.5 0.5 0.5]\n",
            " [0.5 0.5 0.5]]\n",
            "[[0.5 1.5 2.5]\n",
            " [3.5 4.5 5.5]]\n"
          ],
          "name": "stdout"
        }
      ]
    },
    {
      "cell_type": "markdown",
      "metadata": {
        "id": "FNPSO0NQNyiT"
      },
      "source": [
        "Hadamard Product"
      ]
    },
    {
      "cell_type": "code",
      "metadata": {
        "colab": {
          "base_uri": "https://localhost:8080/"
        },
        "id": "17g3Sr5-Npxf",
        "outputId": "c33ebffc-7ec3-4ad3-d53d-912912e0c2df"
      },
      "source": [
        "# define first matrix\n",
        "A = array([\n",
        "[1, 2, 3],\n",
        "[4, 5, 6]])\n",
        "print(A)\n",
        "# define second matrix\n",
        "B = array([\n",
        "[1, 2, 3],\n",
        "[4, 5, 6]])\n",
        "print(B)\n",
        "# multiply matrices\n",
        "C = A * B\n",
        "print(C)"
      ],
      "execution_count": 38,
      "outputs": [
        {
          "output_type": "stream",
          "text": [
            "[[1 2 3]\n",
            " [4 5 6]]\n",
            "[[1 2 3]\n",
            " [4 5 6]]\n",
            "[[ 1  4  9]\n",
            " [16 25 36]]\n"
          ],
          "name": "stdout"
        }
      ]
    },
    {
      "cell_type": "markdown",
      "metadata": {
        "id": "Ti-LKquQN7JF"
      },
      "source": [
        "Division"
      ]
    },
    {
      "cell_type": "code",
      "metadata": {
        "colab": {
          "base_uri": "https://localhost:8080/"
        },
        "id": "tGJH_8HwN2o7",
        "outputId": "f39adf76-6453-4d52-efea-ef85e9c627b0"
      },
      "source": [
        "# define first matrix\n",
        "A = array([\n",
        "[1, 2, 3],\n",
        "[4, 5, 6]])\n",
        "print(A)\n",
        "# define second matrix\n",
        "B = array([\n",
        "[1, 2, 3],\n",
        "[4, 5, 6]])\n",
        "print(B)\n",
        "# divide matrices\n",
        "C = A / B\n",
        "print(C)"
      ],
      "execution_count": 39,
      "outputs": [
        {
          "output_type": "stream",
          "text": [
            "[[1 2 3]\n",
            " [4 5 6]]\n",
            "[[1 2 3]\n",
            " [4 5 6]]\n",
            "[[1. 1. 1.]\n",
            " [1. 1. 1.]]\n"
          ],
          "name": "stdout"
        }
      ]
    },
    {
      "cell_type": "markdown",
      "metadata": {
        "id": "sds1WsKCOFSS"
      },
      "source": [
        "Dot product\n",
        "\n",
        "![slide10.jpg](data:image/jpeg;base64,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)"
      ]
    },
    {
      "cell_type": "code",
      "metadata": {
        "colab": {
          "base_uri": "https://localhost:8080/"
        },
        "id": "sl9WrXDlN_fQ",
        "outputId": "9b754b0e-191c-4c39-c80e-e6ee12d3b23a"
      },
      "source": [
        "#define first matrix\n",
        "A = array([\n",
        "[1, 2],\n",
        "[3, 4],\n",
        "[5, 6]])\n",
        "print(A)\n",
        "# define second matrix\n",
        "B = array([\n",
        "[1, 2],\n",
        "[3, 4]])\n",
        "print(B)\n",
        "# multiply matrices\n",
        "C = A.dot(B)\n",
        "print(C)\n",
        "# multiply matrices with @ operator\n",
        "D = A @ B\n",
        "print(D)"
      ],
      "execution_count": 41,
      "outputs": [
        {
          "output_type": "stream",
          "text": [
            "[[1 2]\n",
            " [3 4]\n",
            " [5 6]]\n",
            "[[1 2]\n",
            " [3 4]]\n",
            "[[ 7 10]\n",
            " [15 22]\n",
            " [23 34]]\n",
            "[[ 7 10]\n",
            " [15 22]\n",
            " [23 34]]\n"
          ],
          "name": "stdout"
        }
      ]
    },
    {
      "cell_type": "markdown",
      "metadata": {
        "id": "EVbrcBbpSYYt"
      },
      "source": [
        "**Matrix Operations**"
      ]
    },
    {
      "cell_type": "markdown",
      "metadata": {
        "id": "HSILbtkOSc8H"
      },
      "source": [
        "Transpose"
      ]
    },
    {
      "cell_type": "code",
      "metadata": {
        "colab": {
          "base_uri": "https://localhost:8080/"
        },
        "id": "TUccKVOOOLOB",
        "outputId": "6a325716-f479-4627-bcd0-ad7af5cd07e8"
      },
      "source": [
        "# define matrix\n",
        "A = array([\n",
        "[1, 2],\n",
        "[3, 4],\n",
        "[5, 6]])\n",
        "print(A)\n",
        "# calculate transpose\n",
        "C = A.T\n",
        "print(C)"
      ],
      "execution_count": 42,
      "outputs": [
        {
          "output_type": "stream",
          "text": [
            "[[1 2]\n",
            " [3 4]\n",
            " [5 6]]\n",
            "[[1 3 5]\n",
            " [2 4 6]]\n"
          ],
          "name": "stdout"
        }
      ]
    },
    {
      "cell_type": "markdown",
      "metadata": {
        "id": "_CZOYhAGSmMe"
      },
      "source": [
        "Inverse"
      ]
    },
    {
      "cell_type": "code",
      "metadata": {
        "colab": {
          "base_uri": "https://localhost:8080/"
        },
        "id": "je5paAASSeKf",
        "outputId": "21e9eda0-5ac2-4be1-ffeb-935e940165c4"
      },
      "source": [
        "# invert matrix\n",
        "from numpy.linalg import inv\n",
        "# define matrix\n",
        "A = array([\n",
        "[1.0, 2.0],\n",
        "[3.0, 4.0]])\n",
        "print(A)\n",
        "# invert matrix\n",
        "B = inv(A)\n",
        "print(B)\n",
        "# multiply A and B\n",
        "I = A.dot(B)\n",
        "print(I)"
      ],
      "execution_count": 44,
      "outputs": [
        {
          "output_type": "stream",
          "text": [
            "[[1. 2.]\n",
            " [3. 4.]]\n",
            "[[-2.   1. ]\n",
            " [ 1.5 -0.5]]\n",
            "[[1.0000000e+00 0.0000000e+00]\n",
            " [8.8817842e-16 1.0000000e+00]]\n"
          ],
          "name": "stdout"
        }
      ]
    },
    {
      "cell_type": "markdown",
      "metadata": {
        "id": "oLediHyZVkMy"
      },
      "source": [
        "Trace (sum of the diag)"
      ]
    },
    {
      "cell_type": "code",
      "metadata": {
        "colab": {
          "base_uri": "https://localhost:8080/"
        },
        "id": "3blqnwg4SnQ4",
        "outputId": "945f5016-e455-4aaa-fe06-b6bbb70b036b"
      },
      "source": [
        "from numpy import trace\n",
        "# define matrix\n",
        "A = array([\n",
        "[1, 2, 3],\n",
        "[4, 5, 6],\n",
        "[7, 8, 9]])\n",
        "print(A)\n",
        "# calculate trace\n",
        "B = trace(A)\n",
        "print(B)"
      ],
      "execution_count": 45,
      "outputs": [
        {
          "output_type": "stream",
          "text": [
            "[[1 2 3]\n",
            " [4 5 6]\n",
            " [7 8 9]]\n",
            "15\n"
          ],
          "name": "stdout"
        }
      ]
    },
    {
      "cell_type": "markdown",
      "metadata": {
        "id": "stK_sH7VWIz4"
      },
      "source": [
        "Determinant"
      ]
    },
    {
      "cell_type": "code",
      "metadata": {
        "colab": {
          "base_uri": "https://localhost:8080/"
        },
        "id": "1_GBB9_-VnTN",
        "outputId": "abd9b85a-2e24-4e26-9e56-0342c041a61e"
      },
      "source": [
        "from numpy.linalg import det\n",
        "# define matrix\n",
        "A = array([\n",
        "[1, 2, 3],\n",
        "[4, 5, 6],\n",
        "[7, 8, 9]])\n",
        "print(A)\n",
        "# calculate determinant\n",
        "B = det(A)\n",
        "print(B)"
      ],
      "execution_count": 48,
      "outputs": [
        {
          "output_type": "stream",
          "text": [
            "[[1 2 3]\n",
            " [4 5 6]\n",
            " [7 8 9]]\n",
            "0.0\n"
          ],
          "name": "stdout"
        }
      ]
    },
    {
      "cell_type": "code",
      "metadata": {
        "id": "AGOoPkQlWKUG"
      },
      "source": [
        ""
      ],
      "execution_count": null,
      "outputs": []
    }
  ]
}