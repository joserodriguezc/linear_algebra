{
  "nbformat": 4,
  "nbformat_minor": 0,
  "metadata": {
    "colab": {
      "name": "Linear_Algebra_Numpy_Matrices.ipynb",
      "provenance": [],
      "authorship_tag": "ABX9TyPaSc9jWRdv7sxEIU6Qh1nq",
      "include_colab_link": true
    },
    "kernelspec": {
      "name": "python3",
      "display_name": "Python 3"
    },
    "language_info": {
      "name": "python"
    }
  },
  "cells": [
    {
      "cell_type": "markdown",
      "metadata": {
        "id": "view-in-github",
        "colab_type": "text"
      },
      "source": [
        "<a href=\"https://colab.research.google.com/github/joserodriguezc/linear_algebra/blob/main/Numpy/Linear_Algebra_Numpy_Matrices.ipynb\" target=\"_parent\"><img src=\"https://colab.research.google.com/assets/colab-badge.svg\" alt=\"Open In Colab\"/></a>"
      ]
    },
    {
      "cell_type": "markdown",
      "metadata": {
        "id": "GLevW_3w9LFi"
      },
      "source": [
        "**Vectors and Vector Arithmetic**\n",
        "\n",
        "*Vectors are built from components, which are ordinary numbers. You can think of a vector as a list of numbers, and vector algebra as operations performed on the numbers in the list.*\n",
        "No Bullshit Guide To Linear Algebra, 2017.\n",
        "\n"
      ]
    },
    {
      "cell_type": "markdown",
      "metadata": {
        "id": "3zh0Dca5-OEH"
      },
      "source": [
        "v = (v1; v2; v3)"
      ]
    },
    {
      "cell_type": "code",
      "metadata": {
        "colab": {
          "base_uri": "https://localhost:8080/"
        },
        "id": "kxusi8uP9VS9",
        "outputId": "dd18f241-2712-41bc-f53c-efa7d60ddcdf"
      },
      "source": [
        "# create a vector\n",
        "from numpy import array\n",
        "# define vector\n",
        "v = array([10, 22, 343])\n",
        "print(v)"
      ],
      "execution_count": 2,
      "outputs": [
        {
          "output_type": "stream",
          "text": [
            "[ 10  22 343]\n"
          ],
          "name": "stdout"
        }
      ]
    },
    {
      "cell_type": "markdown",
      "metadata": {
        "id": "zc9ezAQi-xpF"
      },
      "source": [
        "Basic Arithmetic"
      ]
    },
    {
      "cell_type": "code",
      "metadata": {
        "id": "OSVq78bA-W4b"
      },
      "source": [
        "vector1 = array([1,5,7])\n",
        "vector2 = array([0.2,0.5,3.5])"
      ],
      "execution_count": 4,
      "outputs": []
    },
    {
      "cell_type": "code",
      "metadata": {
        "colab": {
          "base_uri": "https://localhost:8080/"
        },
        "id": "ZlVKxnz9_DOz",
        "outputId": "9ec81f26-b901-49a5-bdf0-63864bb8aa5b"
      },
      "source": [
        "add = vector1 + vector2\n",
        "print(add)"
      ],
      "execution_count": 5,
      "outputs": [
        {
          "output_type": "stream",
          "text": [
            "[ 1.2  5.5 10.5]\n"
          ],
          "name": "stdout"
        }
      ]
    },
    {
      "cell_type": "code",
      "metadata": {
        "colab": {
          "base_uri": "https://localhost:8080/"
        },
        "id": "6VggpvmU_Kyv",
        "outputId": "93438714-19c1-44ae-c07c-b02e409177d9"
      },
      "source": [
        "sust = vector1 - vector2\n",
        "print(sust)"
      ],
      "execution_count": 7,
      "outputs": [
        {
          "output_type": "stream",
          "text": [
            "[0.8 4.5 3.5]\n"
          ],
          "name": "stdout"
        }
      ]
    },
    {
      "cell_type": "code",
      "metadata": {
        "colab": {
          "base_uri": "https://localhost:8080/"
        },
        "id": "xaHyoJZW_QvZ",
        "outputId": "559e1b04-b6b6-420a-acfd-cc9d30c4a88b"
      },
      "source": [
        "mul = vector1 * vector2\n",
        "print(mul)"
      ],
      "execution_count": 8,
      "outputs": [
        {
          "output_type": "stream",
          "text": [
            "[ 0.2  2.5 24.5]\n"
          ],
          "name": "stdout"
        }
      ]
    },
    {
      "cell_type": "code",
      "metadata": {
        "colab": {
          "base_uri": "https://localhost:8080/"
        },
        "id": "nyaYBlb8_YBG",
        "outputId": "02663bb3-9952-46d8-bc65-f6bc08d15e10"
      },
      "source": [
        "div = vector1 / vector2\n",
        "print(div)"
      ],
      "execution_count": 9,
      "outputs": [
        {
          "output_type": "stream",
          "text": [
            "[ 5. 10.  2.]\n"
          ],
          "name": "stdout"
        }
      ]
    },
    {
      "cell_type": "markdown",
      "metadata": {
        "id": "IbByeDxv_j-v"
      },
      "source": [
        "Dot Product\n",
        "\n",
        "c = a . b   \n",
        "c = c = (a1 * b1 + a2 * b2 + a3 * b3)"
      ]
    },
    {
      "cell_type": "code",
      "metadata": {
        "colab": {
          "base_uri": "https://localhost:8080/"
        },
        "id": "S_rBzZzu_e3l",
        "outputId": "06ac0783-c2a2-43d9-a8cd-680c7800af9f"
      },
      "source": [
        "dot = vector1.dot(vector2)\n",
        "print(dot)"
      ],
      "execution_count": 11,
      "outputs": [
        {
          "output_type": "stream",
          "text": [
            "27.2\n"
          ],
          "name": "stdout"
        }
      ]
    },
    {
      "cell_type": "code",
      "metadata": {
        "id": "vGxXFtRZ_wgY"
      },
      "source": [
        ""
      ],
      "execution_count": null,
      "outputs": []
    }
  ]
}