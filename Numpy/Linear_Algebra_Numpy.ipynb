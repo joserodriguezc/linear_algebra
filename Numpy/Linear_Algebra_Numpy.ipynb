{
  "nbformat": 4,
  "nbformat_minor": 0,
  "metadata": {
    "colab": {
      "name": "Linear_Algebra_Numpy.ipynb",
      "provenance": [],
      "collapsed_sections": [],
      "authorship_tag": "ABX9TyN4TRWQHnjIozreMtT7esUJ",
      "include_colab_link": true
    },
    "kernelspec": {
      "name": "python3",
      "display_name": "Python 3"
    },
    "language_info": {
      "name": "python"
    }
  },
  "cells": [
    {
      "cell_type": "markdown",
      "metadata": {
        "id": "view-in-github",
        "colab_type": "text"
      },
      "source": [
        "<a href=\"https://colab.research.google.com/github/joserodriguezc/linear_algebra/blob/main/Numpy/Linear_Algebra_Numpy.ipynb\" target=\"_parent\"><img src=\"https://colab.research.google.com/assets/colab-badge.svg\" alt=\"Open In Colab\"/></a>"
      ]
    },
    {
      "cell_type": "markdown",
      "metadata": {
        "id": "0SiIJhtwy9zn"
      },
      "source": [
        "**Numpy Arrays**   \n",
        "Arrays are the main data structure used in machine learning. In Python, arrays from the NumPy library, called N-dimensional arrays or the *ndarray*, are used as the primary data structure for representing data\n"
      ]
    },
    {
      "cell_type": "code",
      "metadata": {
        "colab": {
          "base_uri": "https://localhost:8080/"
        },
        "id": "pltG3McqzBMJ",
        "outputId": "76385607-0fdb-4fcd-d541-1fee6769ceeb"
      },
      "source": [
        "y = 10\n",
        "print(y)"
      ],
      "execution_count": 1,
      "outputs": [
        {
          "output_type": "stream",
          "text": [
            "10\n"
          ],
          "name": "stdout"
        }
      ]
    }
  ]
}