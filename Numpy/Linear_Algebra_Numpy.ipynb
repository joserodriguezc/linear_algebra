{
  "nbformat": 4,
  "nbformat_minor": 0,
  "metadata": {
    "colab": {
      "name": "Linear_Algebra_Numpy.ipynb",
      "provenance": [],
      "authorship_tag": "ABX9TyP6OW1iceGEVLJGXzxA7v3J",
      "include_colab_link": true
    },
    "kernelspec": {
      "name": "python3",
      "display_name": "Python 3"
    },
    "language_info": {
      "name": "python"
    }
  },
  "cells": [
    {
      "cell_type": "markdown",
      "metadata": {
        "id": "view-in-github",
        "colab_type": "text"
      },
      "source": [
        "<a href=\"https://colab.research.google.com/github/joserodriguezc/linear_algebra/blob/main/Numpy/Linear_Algebra_Numpy.ipynb\" target=\"_parent\"><img src=\"https://colab.research.google.com/assets/colab-badge.svg\" alt=\"Open In Colab\"/></a>"
      ]
    },
    {
      "cell_type": "markdown",
      "metadata": {
        "id": "0SiIJhtwy9zn"
      },
      "source": [
        "**Numpy Arrays**   \n",
        "Arrays are the main data structure used in machine learning. In Python, arrays from the NumPy library, called N-dimensional arrays or the *ndarray*, are used as the primary data structure for representing data\n"
      ]
    },
    {
      "cell_type": "code",
      "metadata": {
        "id": "pltG3McqzBMJ"
      },
      "source": [
        ""
      ],
      "execution_count": null,
      "outputs": []
    }
  ]
}