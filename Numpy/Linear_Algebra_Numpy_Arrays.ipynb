{
  "nbformat": 4,
  "nbformat_minor": 0,
  "metadata": {
    "colab": {
      "name": "Linear_Algebra_Numpy_Arrays.ipynb",
      "provenance": [],
      "collapsed_sections": [],
      "authorship_tag": "ABX9TyO+8W06HZFZJc7Jqt18Nl4M",
      "include_colab_link": true
    },
    "kernelspec": {
      "name": "python3",
      "display_name": "Python 3"
    },
    "language_info": {
      "name": "python"
    }
  },
  "cells": [
    {
      "cell_type": "markdown",
      "metadata": {
        "id": "view-in-github",
        "colab_type": "text"
      },
      "source": [
        "<a href=\"https://colab.research.google.com/github/joserodriguezc/linear_algebra/blob/main/Numpy/Linear_Algebra_Numpy_Arrays.ipynb\" target=\"_parent\"><img src=\"https://colab.research.google.com/assets/colab-badge.svg\" alt=\"Open In Colab\"/></a>"
      ]
    },
    {
      "cell_type": "markdown",
      "metadata": {
        "id": "0SiIJhtwy9zn"
      },
      "source": [
        "**Numpy Arrays**   \n",
        "Arrays are the main data structure used in machine learning. In Python, arrays from the NumPy library, called N-dimensional arrays or the *ndarray*, are used as the primary data structure for representing data\n"
      ]
    },
    {
      "cell_type": "code",
      "metadata": {
        "colab": {
          "base_uri": "https://localhost:8080/"
        },
        "id": "pltG3McqzBMJ",
        "outputId": "40e1af0b-ee86-48cd-8a25-e6afb74959d8"
      },
      "source": [
        "# create array\n",
        "from numpy import array\n",
        "# create array\n",
        "l = [1.43, 2.0, 5.67]\n",
        "a = array(l)\n",
        "# display array\n",
        "print(a)\n",
        "# display array shape\n",
        "print(a.shape)\n",
        "# display array data type\n",
        "print(a.dtype)"
      ],
      "execution_count": 8,
      "outputs": [
        {
          "output_type": "stream",
          "text": [
            "[1.43 2.   5.67]\n",
            "(3,)\n",
            "float64\n"
          ],
          "name": "stdout"
        }
      ]
    },
    {
      "cell_type": "code",
      "metadata": {
        "colab": {
          "base_uri": "https://localhost:8080/"
        },
        "id": "pLNz0U7i0aYM",
        "outputId": "03123a8c-febe-4b71-dcad-c87864739594"
      },
      "source": [
        "from numpy import empty\n",
        "a = empty([3,5])\n",
        "print(a)"
      ],
      "execution_count": 7,
      "outputs": [
        {
          "output_type": "stream",
          "text": [
            "[[4.65257065e-310 1.03977794e-312 1.01855798e-312 9.54898106e-313\n",
            "  1.08221785e-312]\n",
            " [1.01855798e-312 1.23075756e-312 1.06099790e-312 1.12465777e-312\n",
            "  9.76118064e-313]\n",
            " [1.20953760e-312 1.01855798e-312 1.18831764e-312 4.44659081e-322\n",
            "  0.00000000e+000]]\n"
          ],
          "name": "stdout"
        }
      ]
    },
    {
      "cell_type": "code",
      "metadata": {
        "colab": {
          "base_uri": "https://localhost:8080/"
        },
        "id": "HucIn_0y00jF",
        "outputId": "70d795cb-39ab-4a46-f9dd-c305315fabfb"
      },
      "source": [
        "from numpy import zeros\n",
        "a = zeros([3,3])\n",
        "print(a)"
      ],
      "execution_count": 9,
      "outputs": [
        {
          "output_type": "stream",
          "text": [
            "[[0. 0. 0.]\n",
            " [0. 0. 0.]\n",
            " [0. 0. 0.]]\n"
          ],
          "name": "stdout"
        }
      ]
    },
    {
      "cell_type": "code",
      "metadata": {
        "colab": {
          "base_uri": "https://localhost:8080/"
        },
        "id": "HEAKB0-t07gy",
        "outputId": "453f86cc-dc35-4bd8-d216-37eede50c244"
      },
      "source": [
        "from numpy import ones\n",
        "a = ones([5])\n",
        "print(a)"
      ],
      "execution_count": 10,
      "outputs": [
        {
          "output_type": "stream",
          "text": [
            "[1. 1. 1. 1. 1.]\n"
          ],
          "name": "stdout"
        }
      ]
    },
    {
      "cell_type": "markdown",
      "metadata": {
        "id": "pGWm2C4j1CDw"
      },
      "source": [
        "Vertical Stack"
      ]
    },
    {
      "cell_type": "code",
      "metadata": {
        "colab": {
          "base_uri": "https://localhost:8080/"
        },
        "id": "OAROZm_D1C5T",
        "outputId": "f8523fc9-0f33-4ab6-fd2c-c87c53a96b39"
      },
      "source": [
        "#create array with vstack\n",
        "from numpy import vstack\n",
        "# create first array\n",
        "a1 = array([1,2,3])\n",
        "print(a1)\n",
        "# create second array\n",
        "a2 = array([4,5,6])\n",
        "print(a2)\n",
        "# vertical stack\n",
        "a3 = vstack((a1, a2))\n",
        "print(a3)\n",
        "print(a3.shape)"
      ],
      "execution_count": 18,
      "outputs": [
        {
          "output_type": "stream",
          "text": [
            "[1 2 3]\n",
            "[4 5 6]\n",
            "[[1 2 3]\n",
            " [4 5 6]]\n",
            "(2, 3)\n"
          ],
          "name": "stdout"
        }
      ]
    },
    {
      "cell_type": "markdown",
      "metadata": {
        "id": "KwFtiVx41Rla"
      },
      "source": [
        "Horizontal Stack"
      ]
    },
    {
      "cell_type": "code",
      "metadata": {
        "colab": {
          "base_uri": "https://localhost:8080/"
        },
        "id": "h0N1TMgE1R-a",
        "outputId": "72f7c83d-73d3-4747-b354-f04de853b691"
      },
      "source": [
        "from numpy import hstack\n",
        "# create first array\n",
        "a1 = array([1,2,3])\n",
        "print(a1)\n",
        "# create second array\n",
        "a2 = array([4,5,6,7,8])\n",
        "print(a2)\n",
        "# create horizontal stack\n",
        "a3 = hstack((a1, a2))\n",
        "print(a3)\n",
        "print(a3.shape)"
      ],
      "execution_count": 15,
      "outputs": [
        {
          "output_type": "stream",
          "text": [
            "[1 2 3]\n",
            "[4 5 6 7 8]\n",
            "[1 2 3 4 5 6 7 8]\n",
            "(8,)\n"
          ],
          "name": "stdout"
        }
      ]
    },
    {
      "cell_type": "markdown",
      "metadata": {
        "id": "QSlESjfR2Np2"
      },
      "source": [
        "One-Dimensional List to Array"
      ]
    },
    {
      "cell_type": "code",
      "metadata": {
        "colab": {
          "base_uri": "https://localhost:8080/"
        },
        "id": "6COf2aqu2Ode",
        "outputId": "13bdb362-ab27-42c3-e2be-685ac97e4287"
      },
      "source": [
        "# list of data\n",
        "data = [11, 22, 33, 44, 55]\n",
        "# array of data\n",
        "data = array(data)\n",
        "print(data)\n",
        "print(type(data))"
      ],
      "execution_count": 19,
      "outputs": [
        {
          "output_type": "stream",
          "text": [
            "[11 22 33 44 55]\n",
            "<class 'numpy.ndarray'>\n"
          ],
          "name": "stdout"
        }
      ]
    },
    {
      "cell_type": "markdown",
      "metadata": {
        "id": "hKoQc3eV4stJ"
      },
      "source": [
        "Two-Dimensional List of Lists to Array"
      ]
    },
    {
      "cell_type": "code",
      "metadata": {
        "colab": {
          "base_uri": "https://localhost:8080/"
        },
        "id": "Dme45g6y2Q9d",
        "outputId": "4e6e587f-10d0-4e1e-a75b-f2bef2011824"
      },
      "source": [
        "# list of data\n",
        "data = [[11, 22],\n",
        "[33, 44],\n",
        "[55, 66]]\n",
        "# array of data\n",
        "data = array(data)\n",
        "print(data)\n",
        "print(type(data))"
      ],
      "execution_count": 20,
      "outputs": [
        {
          "output_type": "stream",
          "text": [
            "[[11 22]\n",
            " [33 44]\n",
            " [55 66]]\n",
            "<class 'numpy.ndarray'>\n"
          ],
          "name": "stdout"
        }
      ]
    },
    {
      "cell_type": "markdown",
      "metadata": {
        "id": "iZ4WQlzd6WkV"
      },
      "source": [
        "Broadcasting"
      ]
    },
    {
      "cell_type": "code",
      "metadata": {
        "colab": {
          "base_uri": "https://localhost:8080/"
        },
        "id": "IjBPVFDa4vrM",
        "outputId": "71a0622e-5fc4-4fe1-96a7-0332067a51cc"
      },
      "source": [
        "# broadcast scalar to one-dimensional array\n",
        "# define array\n",
        "a = array([1, 2, 3])\n",
        "print(a)\n",
        "# define scalar\n",
        "b = 2\n",
        "print(b)\n",
        "# broadcast\n",
        "c = a + b\n",
        "print(c)"
      ],
      "execution_count": 25,
      "outputs": [
        {
          "output_type": "stream",
          "text": [
            "[1 2 3]\n",
            "2\n",
            "[3 4 5]\n"
          ],
          "name": "stdout"
        }
      ]
    },
    {
      "cell_type": "code",
      "metadata": {
        "colab": {
          "base_uri": "https://localhost:8080/"
        },
        "id": "VQGSydOK6mWc",
        "outputId": "ddd608f3-ea0f-4b22-e82b-35a51a27cb6e"
      },
      "source": [
        "# broadcast scalar to two-dimensional array\n",
        "# define array\n",
        "A = array([\n",
        "[1, 2, 3],\n",
        "[1, 2, 3]])\n",
        "print(A)\n",
        "# define scalar\n",
        "b = 2\n",
        "print(b)\n",
        "# broadcast\n",
        "C = A + b\n",
        "print(C)\n"
      ],
      "execution_count": 23,
      "outputs": [
        {
          "output_type": "stream",
          "text": [
            "[[1 2 3]\n",
            " [1 2 3]]\n",
            "2\n",
            "[[3 4 5]\n",
            " [3 4 5]]\n"
          ],
          "name": "stdout"
        }
      ]
    },
    {
      "cell_type": "code",
      "metadata": {
        "colab": {
          "base_uri": "https://localhost:8080/"
        },
        "id": "p7dMMERh6m4U",
        "outputId": "28c29d9a-6215-4bb7-fe5a-6595af6d90b5"
      },
      "source": [
        "# broadcast one-dimensional array to two-dimensional array\n",
        "# define two-dimensional array\n",
        "A = array([\n",
        "[1, 2, 3],\n",
        "[1, 2, 3]])\n",
        "print(A)\n",
        "# define one-dimensional array\n",
        "b = array([1, 2, 3])\n",
        "print(b)\n",
        "# broadcast\n",
        "C = A + b\n",
        "print(C)"
      ],
      "execution_count": 24,
      "outputs": [
        {
          "output_type": "stream",
          "text": [
            "[[1 2 3]\n",
            " [1 2 3]]\n",
            "[1 2 3]\n",
            "[[2 4 6]\n",
            " [2 4 6]]\n"
          ],
          "name": "stdout"
        }
      ]
    },
    {
      "cell_type": "code",
      "metadata": {
        "colab": {
          "base_uri": "https://localhost:8080/",
          "height": 262
        },
        "id": "3blgOlw07uJL",
        "outputId": "bdd66b94-0aaa-48da-8ac1-344cdf3995e5"
      },
      "source": [
        "# broadcasting error\n",
        "# define two-dimensional array\n",
        "A = array([\n",
        "[1, 2, 3],\n",
        "[1, 2, 3]])\n",
        "print(A.shape)\n",
        "# define one-dimensional array\n",
        "b = array([1,2,3,4])\n",
        "print(b.shape)\n",
        "# attempt broadcast\n",
        "C = A + b\n",
        "print(C)"
      ],
      "execution_count": 28,
      "outputs": [
        {
          "output_type": "stream",
          "text": [
            "(2, 3)\n",
            "(4,)\n"
          ],
          "name": "stdout"
        },
        {
          "output_type": "error",
          "ename": "ValueError",
          "evalue": "ignored",
          "traceback": [
            "\u001b[0;31m---------------------------------------------------------------------------\u001b[0m",
            "\u001b[0;31mValueError\u001b[0m                                Traceback (most recent call last)",
            "\u001b[0;32m<ipython-input-28-b80f53f6a5b1>\u001b[0m in \u001b[0;36m<module>\u001b[0;34m()\u001b[0m\n\u001b[1;32m      9\u001b[0m \u001b[0mprint\u001b[0m\u001b[0;34m(\u001b[0m\u001b[0mb\u001b[0m\u001b[0;34m.\u001b[0m\u001b[0mshape\u001b[0m\u001b[0;34m)\u001b[0m\u001b[0;34m\u001b[0m\u001b[0;34m\u001b[0m\u001b[0m\n\u001b[1;32m     10\u001b[0m \u001b[0;31m# attempt broadcast\u001b[0m\u001b[0;34m\u001b[0m\u001b[0;34m\u001b[0m\u001b[0;34m\u001b[0m\u001b[0m\n\u001b[0;32m---> 11\u001b[0;31m \u001b[0mC\u001b[0m \u001b[0;34m=\u001b[0m \u001b[0mA\u001b[0m \u001b[0;34m+\u001b[0m \u001b[0mb\u001b[0m\u001b[0;34m\u001b[0m\u001b[0;34m\u001b[0m\u001b[0m\n\u001b[0m\u001b[1;32m     12\u001b[0m \u001b[0mprint\u001b[0m\u001b[0;34m(\u001b[0m\u001b[0mC\u001b[0m\u001b[0;34m)\u001b[0m\u001b[0;34m\u001b[0m\u001b[0;34m\u001b[0m\u001b[0m\n",
            "\u001b[0;31mValueError\u001b[0m: operands could not be broadcast together with shapes (2,3) (4,) "
          ]
        }
      ]
    }
  ]
}